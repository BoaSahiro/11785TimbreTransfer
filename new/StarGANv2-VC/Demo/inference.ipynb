{
 "cells": [
  {
   "cell_type": "markdown",
   "metadata": {
    "id": "HwaQq4GRU_Nw"
   },
   "source": [
    "# StarGANv2-VC Demo (VCTK 20 Speakers)"
   ]
  },
  {
   "cell_type": "markdown",
   "metadata": {
    "id": "hCpoXuZeGKAn"
   },
   "source": [
    "### Utils"
   ]
  },
  {
   "cell_type": "code",
   "execution_count": 3,
   "metadata": {},
   "outputs": [
    {
     "name": "stdout",
     "output_type": "stream",
     "text": [
      "/root/timbre/timbre_transfer/new/StarGANv2-VC\n"
     ]
    }
   ],
   "source": [
    "%cd ..\n"
   ]
  },
  {
   "cell_type": "code",
   "execution_count": 4,
   "metadata": {
    "colab": {
     "base_uri": "https://localhost:8080/"
    },
    "executionInfo": {
     "elapsed": 24923,
     "status": "ok",
     "timestamp": 1613984920200,
     "user": {
      "displayName": "Yinghao Li",
      "photoUrl": "",
      "userId": "12798981472803960591"
     },
     "user_tz": 300
    },
    "id": "3on9IjGhVGTP",
    "outputId": "63a799f8-564d-48c2-fb0f-e66c0cd9fdb8"
   },
   "outputs": [],
   "source": [
    "# load packages\n",
    "import random\n",
    "import yaml\n",
    "from munch import Munch\n",
    "import numpy as np\n",
    "import torch\n",
    "from torch import nn\n",
    "import torch.nn.functional as F\n",
    "import torchaudio\n",
    "import librosa\n",
    "import os\n",
    "import librosa.display\n",
    "\n",
    "# from Utils.ASR.models import ASRCNN\n",
    "# from Utils.JDC.model import JDCNet\n",
    "from models import Generator, MappingNetwork, StyleEncoder\n",
    "\n",
    "%matplotlib inline"
   ]
  },
  {
   "cell_type": "code",
   "execution_count": 112,
   "metadata": {},
   "outputs": [],
   "source": [
    "# Source: http://speech.ee.ntu.edu.tw/~jjery2243542/resource/model/is18/en_speaker_used.txt\n",
    "# Source: https://github.com/jjery2243542/voice_conversion\n",
    "\n",
    "speakers = [225,228,229,230,231,233,236,239,240,244,226,227,232,243,254,256,258,259,270,273]\n",
    "\n",
    "to_mel = torchaudio.transforms.MelSpectrogram(\n",
    "    n_mels=80, n_fft=1024, win_length=1024, hop_length=256)\n",
    "mean, std = -4, 4\n",
    "\n",
    "def preprocess(input):\n",
    "    # wave_tensor = torch.from_numpy(wave).float()\n",
    "    # mel_tensor = to_mel(wave_tensor)\n",
    "    mel_tensor = torch.from_numpy(input)\n",
    "    mel_tensor = (torch.log(1e-5 + mel_tensor.unsqueeze(0)) - mean) / std\n",
    "    return mel_tensor\n",
    "\n",
    "def inverse_preprocess(output):\n",
    "    mel = np.exp(output * std + mean) - 1e-5\n",
    "\n",
    "    return mel\n",
    "\n",
    "def build_model(model_params={}):\n",
    "    args = Munch(model_params)\n",
    "    generator = Generator(args.dim_in, args.style_dim, args.max_conv_dim, w_hpf=args.w_hpf, F0_channel=args.F0_channel)\n",
    "    mapping_network = MappingNetwork(args.latent_dim, args.style_dim, args.num_domains, hidden_dim=args.max_conv_dim)\n",
    "    style_encoder = StyleEncoder(args.dim_in, args.style_dim, args.num_domains, args.max_conv_dim)\n",
    "    \n",
    "    nets_ema = Munch(generator=generator,\n",
    "                     mapping_network=mapping_network,\n",
    "                     style_encoder=style_encoder)\n",
    "\n",
    "    return nets_ema\n",
    "\n",
    "def compute_style(speaker_dicts):\n",
    "    reference_embeddings = {}\n",
    "    for key, (path, speaker) in speaker_dicts.items():\n",
    "        if path == \"\":\n",
    "            label = torch.LongTensor([speaker]).to('cuda')\n",
    "            latent_dim = starganv2.mapping_network.shared[0].in_features\n",
    "            ref = starganv2.mapping_network(torch.randn(1, latent_dim).to('cuda'), label)\n",
    "        else:\n",
    "            wave, sr = librosa.load(path, sr=16000)\n",
    "            audio, index = librosa.effects.trim(wave, top_db=30)\n",
    "            if sr != 16000:\n",
    "                wave = librosa.resample(wave, sr, 16000)\n",
    "            mel_tensor = preprocess(wave).to('cuda')\n",
    "\n",
    "            with torch.no_grad():\n",
    "                label = torch.LongTensor([speaker])\n",
    "                ref = starganv2.style_encoder(mel_tensor.unsqueeze(1), label)\n",
    "        reference_embeddings[key] = (ref, label)\n",
    "    \n",
    "    return reference_embeddings"
   ]
  },
  {
   "cell_type": "markdown",
   "metadata": {},
   "source": [
    "### Load models"
   ]
  },
  {
   "cell_type": "code",
   "execution_count": 123,
   "metadata": {},
   "outputs": [
    {
     "ename": "NameError",
     "evalue": "name 'JDCNet' is not defined",
     "output_type": "error",
     "traceback": [
      "\u001b[0;31m---------------------------------------------------------------------------\u001b[0m",
      "\u001b[0;31mNameError\u001b[0m                                 Traceback (most recent call last)",
      "\u001b[1;32m/root/timbre/timbre_transfer/new/StarGANv2-VC/Demo/inference.ipynb Cell 7'\u001b[0m in \u001b[0;36m<cell line: 3>\u001b[0;34m()\u001b[0m\n\u001b[1;32m      <a href='vscode-notebook-cell://ssh-remote%2B47.90.139.153/root/timbre/timbre_transfer/new/StarGANv2-VC/Demo/inference.ipynb#ch0000006vscode-remote?line=0'>1</a>\u001b[0m \u001b[39m# load F0 model\u001b[39;00m\n\u001b[0;32m----> <a href='vscode-notebook-cell://ssh-remote%2B47.90.139.153/root/timbre/timbre_transfer/new/StarGANv2-VC/Demo/inference.ipynb#ch0000006vscode-remote?line=2'>3</a>\u001b[0m F0_model \u001b[39m=\u001b[39m JDCNet(num_class\u001b[39m=\u001b[39m\u001b[39m1\u001b[39m, seq_len\u001b[39m=\u001b[39m\u001b[39m192\u001b[39m)\n\u001b[1;32m      <a href='vscode-notebook-cell://ssh-remote%2B47.90.139.153/root/timbre/timbre_transfer/new/StarGANv2-VC/Demo/inference.ipynb#ch0000006vscode-remote?line=3'>4</a>\u001b[0m params \u001b[39m=\u001b[39m torch\u001b[39m.\u001b[39mload(\u001b[39m\"\u001b[39m\u001b[39mUtils/JDC/bst.t7\u001b[39m\u001b[39m\"\u001b[39m)[\u001b[39m'\u001b[39m\u001b[39mnet\u001b[39m\u001b[39m'\u001b[39m]\n\u001b[1;32m      <a href='vscode-notebook-cell://ssh-remote%2B47.90.139.153/root/timbre/timbre_transfer/new/StarGANv2-VC/Demo/inference.ipynb#ch0000006vscode-remote?line=4'>5</a>\u001b[0m F0_model\u001b[39m.\u001b[39mload_state_dict(params)\n",
      "\u001b[0;31mNameError\u001b[0m: name 'JDCNet' is not defined"
     ]
    }
   ],
   "source": [
    "# load F0 model\n",
    "\n",
    "F0_model = JDCNet(num_class=1, seq_len=192)\n",
    "params = torch.load(\"Utils/JDC/bst.t7\")['net']\n",
    "F0_model.load_state_dict(params)\n",
    "_ = F0_model.eval()\n",
    "F0_model = F0_model.to('cuda')"
   ]
  },
  {
   "cell_type": "code",
   "execution_count": 122,
   "metadata": {
    "executionInfo": {
     "elapsed": 43003,
     "status": "ok",
     "timestamp": 1613984938321,
     "user": {
      "displayName": "Yinghao Li",
      "photoUrl": "",
      "userId": "12798981472803960591"
     },
     "user_tz": 300
    },
    "id": "NZA3ot-oF5t-"
   },
   "outputs": [
    {
     "ename": "ModuleNotFoundError",
     "evalue": "No module named 'parallel_wavegan'",
     "output_type": "error",
     "traceback": [
      "\u001b[0;31m---------------------------------------------------------------------------\u001b[0m",
      "\u001b[0;31mModuleNotFoundError\u001b[0m                       Traceback (most recent call last)",
      "\u001b[1;32m/root/timbre/timbre_transfer/new/StarGANv2-VC/Demo/inference.ipynb Cell 8'\u001b[0m in \u001b[0;36m<cell line: 2>\u001b[0;34m()\u001b[0m\n\u001b[1;32m      <a href='vscode-notebook-cell://ssh-remote%2B47.90.139.153/root/timbre/timbre_transfer/new/StarGANv2-VC/Demo/inference.ipynb#ch0000007vscode-remote?line=0'>1</a>\u001b[0m \u001b[39m# load vocoder\u001b[39;00m\n\u001b[0;32m----> <a href='vscode-notebook-cell://ssh-remote%2B47.90.139.153/root/timbre/timbre_transfer/new/StarGANv2-VC/Demo/inference.ipynb#ch0000007vscode-remote?line=1'>2</a>\u001b[0m \u001b[39mfrom\u001b[39;00m \u001b[39mparallel_wavegan\u001b[39;00m\u001b[39m.\u001b[39;00m\u001b[39mutils\u001b[39;00m \u001b[39mimport\u001b[39;00m load_model\n\u001b[1;32m      <a href='vscode-notebook-cell://ssh-remote%2B47.90.139.153/root/timbre/timbre_transfer/new/StarGANv2-VC/Demo/inference.ipynb#ch0000007vscode-remote?line=2'>3</a>\u001b[0m vocoder \u001b[39m=\u001b[39m load_model(\u001b[39m\"\u001b[39m\u001b[39mVocoder/checkpoint-400000steps.pkl\u001b[39m\u001b[39m\"\u001b[39m)\u001b[39m.\u001b[39mto(\u001b[39m'\u001b[39m\u001b[39mcuda\u001b[39m\u001b[39m'\u001b[39m)\u001b[39m.\u001b[39meval()\n\u001b[1;32m      <a href='vscode-notebook-cell://ssh-remote%2B47.90.139.153/root/timbre/timbre_transfer/new/StarGANv2-VC/Demo/inference.ipynb#ch0000007vscode-remote?line=3'>4</a>\u001b[0m vocoder\u001b[39m.\u001b[39mremove_weight_norm()\n",
      "\u001b[0;31mModuleNotFoundError\u001b[0m: No module named 'parallel_wavegan'"
     ]
    }
   ],
   "source": [
    "# load vocoder\n",
    "from parallel_wavegan.utils import load_model\n",
    "vocoder = load_model(\"Vocoder/checkpoint-400000steps.pkl\").to('cuda').eval()\n",
    "vocoder.remove_weight_norm()\n",
    "_ = vocoder.eval()"
   ]
  },
  {
   "cell_type": "code",
   "execution_count": 124,
   "metadata": {
    "colab": {
     "base_uri": "https://localhost:8080/"
    },
    "executionInfo": {
     "elapsed": 24462,
     "status": "ok",
     "timestamp": 1613985522414,
     "user": {
      "displayName": "Yinghao Li",
      "photoUrl": "",
      "userId": "12798981472803960591"
     },
     "user_tz": 300
    },
    "id": "Ou4367LCyefA",
    "outputId": "19c61f6f-f39a-43b9-9275-09418c2aebb4"
   },
   "outputs": [],
   "source": [
    "# load starganv2\n",
    "\n",
    "model_path = '/root/timbre/timbre_transfer/new/StarGANv2-VC/Models/VCTK20/checkpoint.pth'\n",
    "\n",
    "with open('Models/VCTK20/config.yml') as f:\n",
    "    starganv2_config = yaml.safe_load(f)\n",
    "starganv2 = build_model(model_params=starganv2_config[\"model_params\"])\n",
    "params = torch.load(model_path, map_location='cpu')\n",
    "params = params['model_ema']\n",
    "_ = [starganv2[key].load_state_dict(params[key]) for key in starganv2]\n",
    "_ = [starganv2[key].eval() for key in starganv2]\n",
    "starganv2.style_encoder = starganv2.style_encoder.to('cuda')\n",
    "starganv2.mapping_network = starganv2.mapping_network.to('cuda')\n",
    "starganv2.generator = starganv2.generator.to('cuda')"
   ]
  },
  {
   "cell_type": "markdown",
   "metadata": {},
   "source": [
    "### Conversion"
   ]
  },
  {
   "cell_type": "code",
   "execution_count": 119,
   "metadata": {},
   "outputs": [
    {
     "name": "stdout",
     "output_type": "stream",
     "text": [
      "[[0.25267288 0.3168483  0.3495854  ... 0.31423363 0.32262984 0.33576486]\n",
      " [0.39563736 0.46135926 0.5139702  ... 0.41193673 0.3967898  0.41265675]\n",
      " [0.398144   0.4893191  0.55287737 ... 0.4686471  0.46560016 0.42075145]\n",
      " ...\n",
      " [0.04044144 0.07324836 0.08692306 ... 0.0264032  0.02250511 0.04434845]\n",
      " [0.         0.0335405  0.06455429 ... 0.03383453 0.03024681 0.02563255]\n",
      " [0.         0.02907722 0.03968948 ... 0.0346698  0.02780563 0.01750587]]\n",
      "[[[ 0.31220937  0.42535883  0.47451675 ...  0.42121607  0.4343992\n",
      "    0.45435005]\n",
      "  [ 0.5363873   0.6132226   0.6672145  ...  0.55657196  0.53784156\n",
      "    0.5574451 ]\n",
      "  [ 0.53954506  0.64264023  0.70369864 ...  0.6210587   0.6177975\n",
      "    0.5671576 ]\n",
      "  ...\n",
      "  [-0.6024263  -0.3064841  -0.22103524 ... -0.81357443 -0.89211845\n",
      "   -0.5565709 ]\n",
      "  [-1.8782313  -0.6952884  -0.3695252  ... -0.6909623  -0.7464645\n",
      "   -0.8281697 ]\n",
      "  [-1.8782313  -0.76596045 -0.6117525  ... -0.67887187 -0.7880455\n",
      "   -1.0145819 ]]]\n"
     ]
    },
    {
     "data": {
      "image/png": "[encoded data removed]",
      "text/plain": [
       "<Figure size 432x288 with 1 Axes>"
      ]
     },
     "metadata": {
      "needs_background": "light"
     },
     "output_type": "display_data"
    }
   ],
   "source": [
    "# load input wave\n",
    "# selected_speakers = [273, 259, 258, 243, 254, 244, 236, 233, 230, 228]\n",
    "# k = random.choice(selected_speakers)\n",
    "wav_path = '/root/timbre/data_syn/cropped/' + \"piano_all_00.wav\"\n",
    "audio, source_sr = librosa.load(wav_path, sr=16000)\n",
    "audio = audio / np.max(np.abs(audio))\n",
    "audio.dtype = np.float32\n",
    "\n",
    "a = np.load(\"/root/timbre/data_syn/cropped/piano_all_00.wav.spec.npy\")\n",
    "a = a[:, :128]\n",
    "\n",
    "\n",
    "print(a)\n",
    "# print(b)\n",
    "\n",
    "a = a ** 2\n",
    "\n",
    "librosa.display.specshow(a[:, :100],\n",
    "                         y_axis='mel', fmax=8000, x_axis='time')\n",
    "a = preprocess(a).numpy()\n",
    "\n",
    "print(a)\n",
    "\n",
    "# preprocessed = preprocess(audio).numpy()\n",
    "# print(preprocessed.shape)\n",
    "\n",
    "# inverse_preprocess(preprocessed).shape\n",
    "\n",
    "# librosa.display.specshow(preprocessed[0, :, :100],\n",
    "#                          y_axis='mel', fmax=8000, x_axis='time')\n",
    "\n"
   ]
  },
  {
   "cell_type": "markdown",
   "metadata": {},
   "source": [
    "#### Convert by style encoder"
   ]
  },
  {
   "cell_type": "code",
   "execution_count": 116,
   "metadata": {},
   "outputs": [
    {
     "ename": "RuntimeError",
     "evalue": "Given input size: (128x1x3200000). Calculated output size: (128x0x1600000). Output size is too small",
     "output_type": "error",
     "traceback": [
      "\u001b[0;31m---------------------------------------------------------------------------\u001b[0m",
      "\u001b[0;31mRuntimeError\u001b[0m                              Traceback (most recent call last)",
      "\u001b[1;32m/root/timbre/timbre_transfer/new/StarGANv2-VC/Demo/inference.ipynb Cell 13'\u001b[0m in \u001b[0;36m<cell line: 7>\u001b[0;34m()\u001b[0m\n\u001b[1;32m      <a href='vscode-notebook-cell://ssh-remote%2B47.90.139.153/root/timbre/timbre_transfer/new/StarGANv2-VC/Demo/inference.ipynb#ch0000012vscode-remote?line=3'>4</a>\u001b[0m \u001b[39mfor\u001b[39;00m ins \u001b[39min\u001b[39;00m instrument_list:\n\u001b[1;32m      <a href='vscode-notebook-cell://ssh-remote%2B47.90.139.153/root/timbre/timbre_transfer/new/StarGANv2-VC/Demo/inference.ipynb#ch0000012vscode-remote?line=4'>5</a>\u001b[0m     speaker_dicts[ins] \u001b[39m=\u001b[39m (\u001b[39m'\u001b[39m\u001b[39m/root/timbre/data_syn/cropped/\u001b[39m\u001b[39m'\u001b[39m \u001b[39m+\u001b[39m ins \u001b[39m+\u001b[39m \u001b[39m'\u001b[39m\u001b[39m_all\u001b[39m\u001b[39m'\u001b[39m \u001b[39m+\u001b[39m \u001b[39m'\u001b[39m\u001b[39m_00.wav\u001b[39m\u001b[39m'\u001b[39m, instrument_list\u001b[39m.\u001b[39mindex(ins))\n\u001b[0;32m----> <a href='vscode-notebook-cell://ssh-remote%2B47.90.139.153/root/timbre/timbre_transfer/new/StarGANv2-VC/Demo/inference.ipynb#ch0000012vscode-remote?line=6'>7</a>\u001b[0m reference_embeddings \u001b[39m=\u001b[39m compute_style(speaker_dicts)\n",
      "\u001b[1;32m/root/timbre/timbre_transfer/new/StarGANv2-VC/Demo/inference.ipynb Cell 5'\u001b[0m in \u001b[0;36mcompute_style\u001b[0;34m(speaker_dicts)\u001b[0m\n\u001b[1;32m     <a href='vscode-notebook-cell://ssh-remote%2B47.90.139.153/root/timbre/timbre_transfer/new/StarGANv2-VC/Demo/inference.ipynb#ch0000004vscode-remote?line=47'>48</a>\u001b[0m         \u001b[39mwith\u001b[39;00m torch\u001b[39m.\u001b[39mno_grad():\n\u001b[1;32m     <a href='vscode-notebook-cell://ssh-remote%2B47.90.139.153/root/timbre/timbre_transfer/new/StarGANv2-VC/Demo/inference.ipynb#ch0000004vscode-remote?line=48'>49</a>\u001b[0m             label \u001b[39m=\u001b[39m torch\u001b[39m.\u001b[39mLongTensor([speaker])\n\u001b[0;32m---> <a href='vscode-notebook-cell://ssh-remote%2B47.90.139.153/root/timbre/timbre_transfer/new/StarGANv2-VC/Demo/inference.ipynb#ch0000004vscode-remote?line=49'>50</a>\u001b[0m             ref \u001b[39m=\u001b[39m starganv2\u001b[39m.\u001b[39;49mstyle_encoder(mel_tensor\u001b[39m.\u001b[39;49munsqueeze(\u001b[39m1\u001b[39;49m), label)\n\u001b[1;32m     <a href='vscode-notebook-cell://ssh-remote%2B47.90.139.153/root/timbre/timbre_transfer/new/StarGANv2-VC/Demo/inference.ipynb#ch0000004vscode-remote?line=50'>51</a>\u001b[0m     reference_embeddings[key] \u001b[39m=\u001b[39m (ref, label)\n\u001b[1;32m     <a href='vscode-notebook-cell://ssh-remote%2B47.90.139.153/root/timbre/timbre_transfer/new/StarGANv2-VC/Demo/inference.ipynb#ch0000004vscode-remote?line=52'>53</a>\u001b[0m \u001b[39mreturn\u001b[39;00m reference_embeddings\n",
      "File \u001b[0;32m~/miniconda3/lib/python3.9/site-packages/torch/nn/modules/module.py:1110\u001b[0m, in \u001b[0;36mModule._call_impl\u001b[0;34m(self, *input, **kwargs)\u001b[0m\n\u001b[1;32m   <a href='file:///root/miniconda3/lib/python3.9/site-packages/torch/nn/modules/module.py?line=1105'>1106</a>\u001b[0m \u001b[39m# If we don't have any hooks, we want to skip the rest of the logic in\u001b[39;00m\n\u001b[1;32m   <a href='file:///root/miniconda3/lib/python3.9/site-packages/torch/nn/modules/module.py?line=1106'>1107</a>\u001b[0m \u001b[39m# this function, and just call forward.\u001b[39;00m\n\u001b[1;32m   <a href='file:///root/miniconda3/lib/python3.9/site-packages/torch/nn/modules/module.py?line=1107'>1108</a>\u001b[0m \u001b[39mif\u001b[39;00m \u001b[39mnot\u001b[39;00m (\u001b[39mself\u001b[39m\u001b[39m.\u001b[39m_backward_hooks \u001b[39mor\u001b[39;00m \u001b[39mself\u001b[39m\u001b[39m.\u001b[39m_forward_hooks \u001b[39mor\u001b[39;00m \u001b[39mself\u001b[39m\u001b[39m.\u001b[39m_forward_pre_hooks \u001b[39mor\u001b[39;00m _global_backward_hooks\n\u001b[1;32m   <a href='file:///root/miniconda3/lib/python3.9/site-packages/torch/nn/modules/module.py?line=1108'>1109</a>\u001b[0m         \u001b[39mor\u001b[39;00m _global_forward_hooks \u001b[39mor\u001b[39;00m _global_forward_pre_hooks):\n\u001b[0;32m-> <a href='file:///root/miniconda3/lib/python3.9/site-packages/torch/nn/modules/module.py?line=1109'>1110</a>\u001b[0m     \u001b[39mreturn\u001b[39;00m forward_call(\u001b[39m*\u001b[39;49m\u001b[39minput\u001b[39;49m, \u001b[39m*\u001b[39;49m\u001b[39m*\u001b[39;49mkwargs)\n\u001b[1;32m   <a href='file:///root/miniconda3/lib/python3.9/site-packages/torch/nn/modules/module.py?line=1110'>1111</a>\u001b[0m \u001b[39m# Do not call functions when jit is used\u001b[39;00m\n\u001b[1;32m   <a href='file:///root/miniconda3/lib/python3.9/site-packages/torch/nn/modules/module.py?line=1111'>1112</a>\u001b[0m full_backward_hooks, non_full_backward_hooks \u001b[39m=\u001b[39m [], []\n",
      "File \u001b[0;32m~/timbre/timbre_transfer/new/StarGANv2-VC/models.py:302\u001b[0m, in \u001b[0;36mStyleEncoder.forward\u001b[0;34m(self, x, y)\u001b[0m\n\u001b[1;32m    <a href='file:///root/timbre/timbre_transfer/new/StarGANv2-VC/models.py?line=300'>301</a>\u001b[0m \u001b[39mdef\u001b[39;00m \u001b[39mforward\u001b[39m(\u001b[39mself\u001b[39m, x, y):\n\u001b[0;32m--> <a href='file:///root/timbre/timbre_transfer/new/StarGANv2-VC/models.py?line=301'>302</a>\u001b[0m     h \u001b[39m=\u001b[39m \u001b[39mself\u001b[39;49m\u001b[39m.\u001b[39;49mshared(x)\n\u001b[1;32m    <a href='file:///root/timbre/timbre_transfer/new/StarGANv2-VC/models.py?line=303'>304</a>\u001b[0m     h \u001b[39m=\u001b[39m h\u001b[39m.\u001b[39mview(h\u001b[39m.\u001b[39msize(\u001b[39m0\u001b[39m), \u001b[39m-\u001b[39m\u001b[39m1\u001b[39m)\n\u001b[1;32m    <a href='file:///root/timbre/timbre_transfer/new/StarGANv2-VC/models.py?line=304'>305</a>\u001b[0m     out \u001b[39m=\u001b[39m []\n",
      "File \u001b[0;32m~/miniconda3/lib/python3.9/site-packages/torch/nn/modules/module.py:1110\u001b[0m, in \u001b[0;36mModule._call_impl\u001b[0;34m(self, *input, **kwargs)\u001b[0m\n\u001b[1;32m   <a href='file:///root/miniconda3/lib/python3.9/site-packages/torch/nn/modules/module.py?line=1105'>1106</a>\u001b[0m \u001b[39m# If we don't have any hooks, we want to skip the rest of the logic in\u001b[39;00m\n\u001b[1;32m   <a href='file:///root/miniconda3/lib/python3.9/site-packages/torch/nn/modules/module.py?line=1106'>1107</a>\u001b[0m \u001b[39m# this function, and just call forward.\u001b[39;00m\n\u001b[1;32m   <a href='file:///root/miniconda3/lib/python3.9/site-packages/torch/nn/modules/module.py?line=1107'>1108</a>\u001b[0m \u001b[39mif\u001b[39;00m \u001b[39mnot\u001b[39;00m (\u001b[39mself\u001b[39m\u001b[39m.\u001b[39m_backward_hooks \u001b[39mor\u001b[39;00m \u001b[39mself\u001b[39m\u001b[39m.\u001b[39m_forward_hooks \u001b[39mor\u001b[39;00m \u001b[39mself\u001b[39m\u001b[39m.\u001b[39m_forward_pre_hooks \u001b[39mor\u001b[39;00m _global_backward_hooks\n\u001b[1;32m   <a href='file:///root/miniconda3/lib/python3.9/site-packages/torch/nn/modules/module.py?line=1108'>1109</a>\u001b[0m         \u001b[39mor\u001b[39;00m _global_forward_hooks \u001b[39mor\u001b[39;00m _global_forward_pre_hooks):\n\u001b[0;32m-> <a href='file:///root/miniconda3/lib/python3.9/site-packages/torch/nn/modules/module.py?line=1109'>1110</a>\u001b[0m     \u001b[39mreturn\u001b[39;00m forward_call(\u001b[39m*\u001b[39;49m\u001b[39minput\u001b[39;49m, \u001b[39m*\u001b[39;49m\u001b[39m*\u001b[39;49mkwargs)\n\u001b[1;32m   <a href='file:///root/miniconda3/lib/python3.9/site-packages/torch/nn/modules/module.py?line=1110'>1111</a>\u001b[0m \u001b[39m# Do not call functions when jit is used\u001b[39;00m\n\u001b[1;32m   <a href='file:///root/miniconda3/lib/python3.9/site-packages/torch/nn/modules/module.py?line=1111'>1112</a>\u001b[0m full_backward_hooks, non_full_backward_hooks \u001b[39m=\u001b[39m [], []\n",
      "File \u001b[0;32m~/miniconda3/lib/python3.9/site-packages/torch/nn/modules/container.py:141\u001b[0m, in \u001b[0;36mSequential.forward\u001b[0;34m(self, input)\u001b[0m\n\u001b[1;32m    <a href='file:///root/miniconda3/lib/python3.9/site-packages/torch/nn/modules/container.py?line=138'>139</a>\u001b[0m \u001b[39mdef\u001b[39;00m \u001b[39mforward\u001b[39m(\u001b[39mself\u001b[39m, \u001b[39minput\u001b[39m):\n\u001b[1;32m    <a href='file:///root/miniconda3/lib/python3.9/site-packages/torch/nn/modules/container.py?line=139'>140</a>\u001b[0m     \u001b[39mfor\u001b[39;00m module \u001b[39min\u001b[39;00m \u001b[39mself\u001b[39m:\n\u001b[0;32m--> <a href='file:///root/miniconda3/lib/python3.9/site-packages/torch/nn/modules/container.py?line=140'>141</a>\u001b[0m         \u001b[39minput\u001b[39m \u001b[39m=\u001b[39m module(\u001b[39minput\u001b[39;49m)\n\u001b[1;32m    <a href='file:///root/miniconda3/lib/python3.9/site-packages/torch/nn/modules/container.py?line=141'>142</a>\u001b[0m     \u001b[39mreturn\u001b[39;00m \u001b[39minput\u001b[39m\n",
      "File \u001b[0;32m~/miniconda3/lib/python3.9/site-packages/torch/nn/modules/module.py:1110\u001b[0m, in \u001b[0;36mModule._call_impl\u001b[0;34m(self, *input, **kwargs)\u001b[0m\n\u001b[1;32m   <a href='file:///root/miniconda3/lib/python3.9/site-packages/torch/nn/modules/module.py?line=1105'>1106</a>\u001b[0m \u001b[39m# If we don't have any hooks, we want to skip the rest of the logic in\u001b[39;00m\n\u001b[1;32m   <a href='file:///root/miniconda3/lib/python3.9/site-packages/torch/nn/modules/module.py?line=1106'>1107</a>\u001b[0m \u001b[39m# this function, and just call forward.\u001b[39;00m\n\u001b[1;32m   <a href='file:///root/miniconda3/lib/python3.9/site-packages/torch/nn/modules/module.py?line=1107'>1108</a>\u001b[0m \u001b[39mif\u001b[39;00m \u001b[39mnot\u001b[39;00m (\u001b[39mself\u001b[39m\u001b[39m.\u001b[39m_backward_hooks \u001b[39mor\u001b[39;00m \u001b[39mself\u001b[39m\u001b[39m.\u001b[39m_forward_hooks \u001b[39mor\u001b[39;00m \u001b[39mself\u001b[39m\u001b[39m.\u001b[39m_forward_pre_hooks \u001b[39mor\u001b[39;00m _global_backward_hooks\n\u001b[1;32m   <a href='file:///root/miniconda3/lib/python3.9/site-packages/torch/nn/modules/module.py?line=1108'>1109</a>\u001b[0m         \u001b[39mor\u001b[39;00m _global_forward_hooks \u001b[39mor\u001b[39;00m _global_forward_pre_hooks):\n\u001b[0;32m-> <a href='file:///root/miniconda3/lib/python3.9/site-packages/torch/nn/modules/module.py?line=1109'>1110</a>\u001b[0m     \u001b[39mreturn\u001b[39;00m forward_call(\u001b[39m*\u001b[39;49m\u001b[39minput\u001b[39;49m, \u001b[39m*\u001b[39;49m\u001b[39m*\u001b[39;49mkwargs)\n\u001b[1;32m   <a href='file:///root/miniconda3/lib/python3.9/site-packages/torch/nn/modules/module.py?line=1110'>1111</a>\u001b[0m \u001b[39m# Do not call functions when jit is used\u001b[39;00m\n\u001b[1;32m   <a href='file:///root/miniconda3/lib/python3.9/site-packages/torch/nn/modules/module.py?line=1111'>1112</a>\u001b[0m full_backward_hooks, non_full_backward_hooks \u001b[39m=\u001b[39m [], []\n",
      "File \u001b[0;32m~/timbre/timbre_transfer/new/StarGANv2-VC/models.py:92\u001b[0m, in \u001b[0;36mResBlk.forward\u001b[0;34m(self, x)\u001b[0m\n\u001b[1;32m     <a href='file:///root/timbre/timbre_transfer/new/StarGANv2-VC/models.py?line=90'>91</a>\u001b[0m \u001b[39mdef\u001b[39;00m \u001b[39mforward\u001b[39m(\u001b[39mself\u001b[39m, x):\n\u001b[0;32m---> <a href='file:///root/timbre/timbre_transfer/new/StarGANv2-VC/models.py?line=91'>92</a>\u001b[0m     x \u001b[39m=\u001b[39m \u001b[39mself\u001b[39;49m\u001b[39m.\u001b[39;49m_shortcut(x) \u001b[39m+\u001b[39m \u001b[39mself\u001b[39m\u001b[39m.\u001b[39m_residual(x)\n\u001b[1;32m     <a href='file:///root/timbre/timbre_transfer/new/StarGANv2-VC/models.py?line=92'>93</a>\u001b[0m     \u001b[39mreturn\u001b[39;00m x \u001b[39m/\u001b[39m math\u001b[39m.\u001b[39msqrt(\u001b[39m2\u001b[39m)\n",
      "File \u001b[0;32m~/timbre/timbre_transfer/new/StarGANv2-VC/models.py:76\u001b[0m, in \u001b[0;36mResBlk._shortcut\u001b[0;34m(self, x)\u001b[0m\n\u001b[1;32m     <a href='file:///root/timbre/timbre_transfer/new/StarGANv2-VC/models.py?line=73'>74</a>\u001b[0m     x \u001b[39m=\u001b[39m \u001b[39mself\u001b[39m\u001b[39m.\u001b[39mconv1x1(x)\n\u001b[1;32m     <a href='file:///root/timbre/timbre_transfer/new/StarGANv2-VC/models.py?line=74'>75</a>\u001b[0m \u001b[39mif\u001b[39;00m \u001b[39mself\u001b[39m\u001b[39m.\u001b[39mdownsample:\n\u001b[0;32m---> <a href='file:///root/timbre/timbre_transfer/new/StarGANv2-VC/models.py?line=75'>76</a>\u001b[0m     x \u001b[39m=\u001b[39m \u001b[39mself\u001b[39;49m\u001b[39m.\u001b[39;49mdownsample(x)\n\u001b[1;32m     <a href='file:///root/timbre/timbre_transfer/new/StarGANv2-VC/models.py?line=76'>77</a>\u001b[0m \u001b[39mreturn\u001b[39;00m x\n",
      "File \u001b[0;32m~/miniconda3/lib/python3.9/site-packages/torch/nn/modules/module.py:1110\u001b[0m, in \u001b[0;36mModule._call_impl\u001b[0;34m(self, *input, **kwargs)\u001b[0m\n\u001b[1;32m   <a href='file:///root/miniconda3/lib/python3.9/site-packages/torch/nn/modules/module.py?line=1105'>1106</a>\u001b[0m \u001b[39m# If we don't have any hooks, we want to skip the rest of the logic in\u001b[39;00m\n\u001b[1;32m   <a href='file:///root/miniconda3/lib/python3.9/site-packages/torch/nn/modules/module.py?line=1106'>1107</a>\u001b[0m \u001b[39m# this function, and just call forward.\u001b[39;00m\n\u001b[1;32m   <a href='file:///root/miniconda3/lib/python3.9/site-packages/torch/nn/modules/module.py?line=1107'>1108</a>\u001b[0m \u001b[39mif\u001b[39;00m \u001b[39mnot\u001b[39;00m (\u001b[39mself\u001b[39m\u001b[39m.\u001b[39m_backward_hooks \u001b[39mor\u001b[39;00m \u001b[39mself\u001b[39m\u001b[39m.\u001b[39m_forward_hooks \u001b[39mor\u001b[39;00m \u001b[39mself\u001b[39m\u001b[39m.\u001b[39m_forward_pre_hooks \u001b[39mor\u001b[39;00m _global_backward_hooks\n\u001b[1;32m   <a href='file:///root/miniconda3/lib/python3.9/site-packages/torch/nn/modules/module.py?line=1108'>1109</a>\u001b[0m         \u001b[39mor\u001b[39;00m _global_forward_hooks \u001b[39mor\u001b[39;00m _global_forward_pre_hooks):\n\u001b[0;32m-> <a href='file:///root/miniconda3/lib/python3.9/site-packages/torch/nn/modules/module.py?line=1109'>1110</a>\u001b[0m     \u001b[39mreturn\u001b[39;00m forward_call(\u001b[39m*\u001b[39;49m\u001b[39minput\u001b[39;49m, \u001b[39m*\u001b[39;49m\u001b[39m*\u001b[39;49mkwargs)\n\u001b[1;32m   <a href='file:///root/miniconda3/lib/python3.9/site-packages/torch/nn/modules/module.py?line=1110'>1111</a>\u001b[0m \u001b[39m# Do not call functions when jit is used\u001b[39;00m\n\u001b[1;32m   <a href='file:///root/miniconda3/lib/python3.9/site-packages/torch/nn/modules/module.py?line=1111'>1112</a>\u001b[0m full_backward_hooks, non_full_backward_hooks \u001b[39m=\u001b[39m [], []\n",
      "File \u001b[0;32m~/timbre/timbre_transfer/new/StarGANv2-VC/models.py:32\u001b[0m, in \u001b[0;36mDownSample.forward\u001b[0;34m(self, x)\u001b[0m\n\u001b[1;32m     <a href='file:///root/timbre/timbre_transfer/new/StarGANv2-VC/models.py?line=29'>30</a>\u001b[0m     \u001b[39mreturn\u001b[39;00m F\u001b[39m.\u001b[39mavg_pool2d(x, (\u001b[39m2\u001b[39m, \u001b[39m1\u001b[39m))\n\u001b[1;32m     <a href='file:///root/timbre/timbre_transfer/new/StarGANv2-VC/models.py?line=30'>31</a>\u001b[0m \u001b[39melif\u001b[39;00m \u001b[39mself\u001b[39m\u001b[39m.\u001b[39mlayer_type \u001b[39m==\u001b[39m \u001b[39m'\u001b[39m\u001b[39mhalf\u001b[39m\u001b[39m'\u001b[39m:\n\u001b[0;32m---> <a href='file:///root/timbre/timbre_transfer/new/StarGANv2-VC/models.py?line=31'>32</a>\u001b[0m     \u001b[39mreturn\u001b[39;00m F\u001b[39m.\u001b[39;49mavg_pool2d(x, \u001b[39m2\u001b[39;49m)\n\u001b[1;32m     <a href='file:///root/timbre/timbre_transfer/new/StarGANv2-VC/models.py?line=32'>33</a>\u001b[0m \u001b[39melse\u001b[39;00m:\n\u001b[1;32m     <a href='file:///root/timbre/timbre_transfer/new/StarGANv2-VC/models.py?line=33'>34</a>\u001b[0m     \u001b[39mraise\u001b[39;00m \u001b[39mRuntimeError\u001b[39;00m(\u001b[39m'\u001b[39m\u001b[39mGot unexpected donwsampletype \u001b[39m\u001b[39m%s\u001b[39;00m\u001b[39m, expected is [none, timepreserve, half]\u001b[39m\u001b[39m'\u001b[39m \u001b[39m%\u001b[39m \u001b[39mself\u001b[39m\u001b[39m.\u001b[39mlayer_type)\n",
      "\u001b[0;31mRuntimeError\u001b[0m: Given input size: (128x1x3200000). Calculated output size: (128x0x1600000). Output size is too small"
     ]
    }
   ],
   "source": [
    "# with reference, using style encoder\n",
    "instrument_list = ['piano', 'epiano', 'viola', 'guitar', 'flute', 'trumpet', 'harp', 'organ']\n",
    "speaker_dicts = {}\n",
    "for ins in instrument_list:\n",
    "    speaker_dicts[ins] = ('/root/timbre/data_syn/cropped/' + ins + '_all' + '_00.wav', instrument_list.index(ins))\n",
    "\n",
    "reference_embeddings = compute_style(speaker_dicts)"
   ]
  },
  {
   "cell_type": "code",
   "execution_count": 125,
   "metadata": {
    "colab": {
     "base_uri": "https://localhost:8080/",
     "height": 333
    },
    "executionInfo": {
     "elapsed": 1424,
     "status": "ok",
     "timestamp": 1613986299525,
     "user": {
      "displayName": "Yinghao Li",
      "photoUrl": "",
      "userId": "12798981472803960591"
     },
     "user_tz": 300
    },
    "id": "T5tahObUyN-d",
    "outputId": "f4f38742-2235-4f59-cb2a-5008912cd870",
    "scrolled": true
   },
   "outputs": [
    {
     "name": "stdout",
     "output_type": "stream",
     "text": [
      "torch.Size([1, 80, 128])\n",
      "[[ 1.2317834e-04  5.1471045e-05  7.8623809e-05 ...  2.1581832e-02\n",
      "   2.2552628e-02  8.2730362e-03]\n",
      " [ 2.2865166e-05  2.1816853e-05  1.8335113e-05 ...  3.1004811e-02\n",
      "   2.5341110e-02  4.5430292e-03]\n",
      " [ 4.3737027e-06  2.0722391e-06 -4.8899165e-07 ...  3.2458980e-02\n",
      "   2.3328712e-02  3.8163438e-03]\n",
      " ...\n",
      " [-3.5897906e-06 -5.0031513e-06 -3.1245413e-06 ...  2.5798711e-01\n",
      "   2.5147617e-01  1.7072605e-02]\n",
      " [ 1.8038614e-05  1.3732875e-05  1.9375757e-05 ...  1.8521225e-01\n",
      "   2.4543148e-01  2.4384413e-02]\n",
      " [ 2.6312092e-04  3.4941456e-04  4.1494222e-04 ...  1.4840594e-01\n",
      "   2.0504534e-01  6.4064436e-02]]\n"
     ]
    },
    {
     "data": {
      "image/png": "[encoded data removed]",
      "text/plain": [
       "<Figure size 432x288 with 1 Axes>"
      ]
     },
     "metadata": {
      "needs_background": "light"
     },
     "output_type": "display_data"
    }
   ],
   "source": [
    "# conversion \n",
    "import time\n",
    "start = time.time()\n",
    "    \n",
    "source = torch.from_numpy(a).to('cuda:0')\n",
    "print(source.shape)\n",
    "keys = []\n",
    "converted_samples = {}\n",
    "reconstructed_samples = {}\n",
    "converted_mels = {}\n",
    "\n",
    "for key, (ref, _) in reference_embeddings.items():\n",
    "    with torch.no_grad():\n",
    "        # f0_feat = F0_model.get_feature_GAN(source.unsqueeze(1))\n",
    "        out = starganv2.generator(source.unsqueeze(1), ref)\n",
    "        \n",
    "        c = out.transpose(-1, -2).squeeze().cpu()\n",
    "\n",
    "        c = c.numpy()\n",
    "\n",
    "        c = inverse_preprocess(c)\n",
    "        print(c)\n",
    "\n",
    "        c = c.T\n",
    "\n",
    "        # c = c ** 0.5\n",
    "\n",
    "        np.save(\"result\" + key + \".npy\", c)\n",
    "\n",
    "        librosa.display.specshow(c[:, :100],\n",
    "                         y_axis='mel', fmax=8000, x_axis='time')\n",
    "\n",
    "        break\n"
   ]
  },
  {
   "cell_type": "markdown",
   "metadata": {
    "id": "SWh3o9hvGvJt"
   },
   "source": [
    "#### Convert by mapping network"
   ]
  },
  {
   "cell_type": "code",
   "execution_count": null,
   "metadata": {},
   "outputs": [],
   "source": [
    "# no reference, using mapping network\n",
    "speaker_dicts = {}\n",
    "selected_speakers = [273, 259, 258, 243, 254, 244, 236, 233, 230, 228]\n",
    "for s in selected_speakers:\n",
    "    k = s\n",
    "    speaker_dicts['p' + str(s)] = ('', speakers.index(s))\n",
    "\n",
    "reference_embeddings = compute_style(speaker_dicts)"
   ]
  },
  {
   "cell_type": "code",
   "execution_count": null,
   "metadata": {
    "scrolled": true
   },
   "outputs": [],
   "source": [
    "# conversion \n",
    "import time\n",
    "start = time.time()\n",
    "    \n",
    "source = preprocess(audio).to('cuda:0')\n",
    "keys = []\n",
    "converted_samples = {}\n",
    "reconstructed_samples = {}\n",
    "converted_mels = {}\n",
    "\n",
    "for key, (ref, _) in reference_embeddings.items():\n",
    "    with torch.no_grad():\n",
    "        f0_feat = F0_model.get_feature_GAN(source.unsqueeze(1))\n",
    "        out = starganv2.generator(source.unsqueeze(1), ref, F0=f0_feat)\n",
    "        \n",
    "        c = out.transpose(-1, -2).squeeze().to('cuda')\n",
    "        y_out = vocoder.inference(c)\n",
    "        y_out = y_out.view(-1).cpu()\n",
    "\n",
    "        if key not in speaker_dicts or speaker_dicts[key][0] == \"\":\n",
    "            recon = None\n",
    "        else:\n",
    "            wave, sr = librosa.load(speaker_dicts[key][0], sr=16000)\n",
    "            mel = preprocess(wave)\n",
    "            c = mel.transpose(-1, -2).squeeze().to('cuda')\n",
    "            recon = vocoder.inference(c)\n",
    "            recon = recon.view(-1).cpu().numpy()\n",
    "\n",
    "    converted_samples[key] = y_out.numpy()\n",
    "    reconstructed_samples[key] = recon\n",
    "\n",
    "    converted_mels[key] = out\n",
    "    \n",
    "    keys.append(key)\n",
    "end = time.time()\n",
    "print('total processing time: %.3f sec' % (end - start) )\n",
    "\n",
    "import IPython.display as ipd\n",
    "for key, wave in converted_samples.items():\n",
    "    print('Converted: %s' % key)\n",
    "    display(ipd.Audio(wave, rate=16000))\n",
    "    print('Reference (vocoder): %s' % key)\n",
    "    if reconstructed_samples[key] is not None:\n",
    "        display(ipd.Audio(reconstructed_samples[key], rate=16000))\n",
    "\n",
    "print('Original (vocoder):')\n",
    "wave, sr = librosa.load(wav_path, sr=16000)\n",
    "mel = preprocess(wave)\n",
    "c = mel.transpose(-1, -2).squeeze().to('cuda')\n",
    "with torch.no_grad():\n",
    "    recon = vocoder.inference(c)\n",
    "    recon = recon.view(-1).cpu().numpy()\n",
    "display(ipd.Audio(recon, rate=16000))\n",
    "print('Original:')\n",
    "display(ipd.Audio(wav_path, rate=16000))"
   ]
  }
 ],
 "metadata": {
  "accelerator": "GPU",
  "colab": {
   "collapsed_sections": [
    "hCpoXuZeGKAn"
   ],
   "name": "Starganv2_vc.ipynb",
   "provenance": [],
   "toc_visible": true
  },
  "kernelspec": {
   "display_name": "Python 3",
   "language": "python",
   "name": "python3"
  },
  "language_info": {
   "codemirror_mode": {
    "name": "ipython",
    "version": 3
   },
   "file_extension": ".py",
   "mimetype": "text/x-python",
   "name": "python",
   "nbconvert_exporter": "python",
   "pygments_lexer": "ipython3",
   "version": "3.9.7"
  }
 },
 "nbformat": 4,
 "nbformat_minor": 1
}
